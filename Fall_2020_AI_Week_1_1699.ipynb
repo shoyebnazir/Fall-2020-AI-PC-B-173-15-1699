{
  "nbformat": 4,
  "nbformat_minor": 0,
  "metadata": {
    "colab": {
      "name": "Fall-2020-AI-Week-1-1699.ipynb",
      "provenance": [],
      "authorship_tag": "ABX9TyPGkr94tdnU641t86TTWa3X",
      "include_colab_link": true
    },
    "kernelspec": {
      "name": "python3",
      "display_name": "Python 3"
    }
  },
  "cells": [
    {
      "cell_type": "markdown",
      "metadata": {
        "id": "view-in-github",
        "colab_type": "text"
      },
      "source": [
        "<a href=\"https://colab.research.google.com/github/shoyebnazir/Fall-2020-AI-PC-B-173-15-1699/blob/main/Fall_2020_AI_Week_1_1699.ipynb\" target=\"_parent\"><img src=\"https://colab.research.google.com/assets/colab-badge.svg\" alt=\"Open In Colab\"/></a>"
      ]
    },
    {
      "cell_type": "markdown",
      "metadata": {
        "id": "tK3i3tpGSQEa"
      },
      "source": [
        "#Basic Python\n",
        "\n"
      ]
    },
    {
      "cell_type": "code",
      "metadata": {
        "id": "t9wSbbhtsUZp",
        "outputId": "9c758d6c-a32e-4c3d-ef4b-85276c7b2671",
        "colab": {
          "base_uri": "https://localhost:8080/",
          "height": 34
        }
      },
      "source": [
        "print(\"Hello world\")\n",
        "x=10;"
      ],
      "execution_count": 5,
      "outputs": [
        {
          "output_type": "stream",
          "text": [
            "Hello world\n"
          ],
          "name": "stdout"
        }
      ]
    },
    {
      "cell_type": "code",
      "metadata": {
        "id": "1AKZOe95SGlr",
        "outputId": "f519035c-f036-43e5-a977-dd0ac1bed082",
        "colab": {
          "base_uri": "https://localhost:8080/",
          "height": 34
        }
      },
      "source": [
        "print(x)\n"
      ],
      "execution_count": 6,
      "outputs": [
        {
          "output_type": "stream",
          "text": [
            "10\n"
          ],
          "name": "stdout"
        }
      ]
    },
    {
      "cell_type": "markdown",
      "metadata": {
        "id": "WiHn-5loS1gh"
      },
      "source": [
        "#Statement\n"
      ]
    },
    {
      "cell_type": "code",
      "metadata": {
        "id": "NVmZ2egXSob5",
        "outputId": "d9318292-60ef-46b0-f21d-53844b913f3a",
        "colab": {
          "base_uri": "https://localhost:8080/",
          "height": 34
        }
      },
      "source": [
        "if x>5:\n",
        "  print(x)\n",
        "  "
      ],
      "execution_count": 7,
      "outputs": [
        {
          "output_type": "stream",
          "text": [
            "10\n"
          ],
          "name": "stdout"
        }
      ]
    }
  ]
}