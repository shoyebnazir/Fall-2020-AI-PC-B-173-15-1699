{
  "nbformat": 4,
  "nbformat_minor": 0,
  "metadata": {
    "colab": {
      "name": "CSV module.ipynb",
      "provenance": [],
      "collapsed_sections": [],
      "authorship_tag": "ABX9TyOO2M2paLMWuwROkYG+wrXu",
      "include_colab_link": true
    },
    "kernelspec": {
      "name": "python3",
      "display_name": "Python 3"
    }
  },
  "cells": [
    {
      "cell_type": "markdown",
      "metadata": {
        "id": "view-in-github",
        "colab_type": "text"
      },
      "source": [
        "<a href=\"https://colab.research.google.com/github/shoyebnazir/Fall-2020-AI-PC-B-173-15-1699/blob/main/CSV_module.ipynb\" target=\"_parent\"><img src=\"https://colab.research.google.com/assets/colab-badge.svg\" alt=\"Open In Colab\"/></a>"
      ]
    },
    {
      "cell_type": "code",
      "metadata": {
        "id": "ejJH2SLe1glm"
      },
      "source": [
        "# Code to read csv file into colaboratory:\r\n",
        "!pip install -U -q PyDrive\r\n",
        "from pydrive.auth import GoogleAuth\r\n",
        "from pydrive.drive import GoogleDrive\r\n",
        "from google.colab import auth\r\n",
        "from oauth2client.client import GoogleCredentials"
      ],
      "execution_count": 1,
      "outputs": []
    },
    {
      "cell_type": "code",
      "metadata": {
        "id": "fmh4y5L518Ec"
      },
      "source": [
        "auth.authenticate_user()\r\n",
        "gauth = GoogleAuth()\r\n",
        "gauth.credentials = GoogleCredentials.get_application_default()\r\n",
        "drive = GoogleDrive(gauth)"
      ],
      "execution_count": 3,
      "outputs": []
    },
    {
      "cell_type": "code",
      "metadata": {
        "id": "2jG8SpFu20iK"
      },
      "source": [
        "#2.1 Get the file\r\n",
        "downloaded = drive.CreateFile({'id':'1FbhKehFrPXriSnv1bz0wkBG_yc1LHSMP'}) # replace the id with id of file you want to access\r\n",
        "downloaded.GetContentFile('resources.csv')"
      ],
      "execution_count": 14,
      "outputs": []
    },
    {
      "cell_type": "code",
      "metadata": {
        "colab": {
          "base_uri": "https://localhost:8080/"
        },
        "id": "-HxyDvb66box",
        "outputId": "6ba8fe4d-e957-48c8-8251-f4a31391e8d4"
      },
      "source": [
        "import pandas as pd\r\n",
        "dataset = pd.read_csv('resources.csv', header= 0,\r\n",
        "                        encoding= 'unicode_escape')\r\n",
        "print(dataset.head(1))\r\n"
      ],
      "execution_count": 21,
      "outputs": [
        {
          "output_type": "stream",
          "text": [
            "   1  ...   0.8\n",
            "0  2  ...  0.58\n",
            "\n",
            "[1 rows x 10 columns]\n"
          ],
          "name": "stdout"
        }
      ]
    }
  ]
}